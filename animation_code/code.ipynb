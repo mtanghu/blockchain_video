{
 "cells": [
  {
   "cell_type": "code",
   "execution_count": 116,
   "metadata": {},
   "outputs": [],
   "source": [
    "from manim import *\n",
    "\n",
    "config.media_width = \"60%\""
   ]
  },
  {
   "cell_type": "code",
   "execution_count": 117,
   "metadata": {},
   "outputs": [
    {
     "name": "stderr",
     "output_type": "stream",
     "text": [
      "                                                                                                                       \r"
     ]
    },
    {
     "data": {
      "text/html": [
       "<video src=\"media\\jupyter\\Logos@2021-11-29@21-57-57.mp4\" controls autoplay loop style=\"max-width: 60%;\"  >\n",
       "      Your browser does not support the <code>video</code> element.\n",
       "    </video>"
      ],
      "text/plain": [
       "<IPython.core.display.Video object>"
      ]
     },
     "metadata": {},
     "output_type": "display_data"
    }
   ],
   "source": [
    "%%manim -v WARNING -qm Logos\n",
    "\n",
    "class Logos(Scene):\n",
    "    def construct(self):\n",
    "        bitcoin_logo = ImageMobject(\"./btc_logo.png\")\n",
    "        ethereum_logo = SVGMobject(\"./eth_logo.svg\")\n",
    "        \n",
    "        bitcoin_logo.move_to(LEFT*3+UP*.5).scale(.5)\n",
    "        ethereum_logo.move_to(RIGHT*3+UP*.5).scale(2)\n",
    "        \n",
    "        bitcoin_logo.add(Text(\"Bitcoin\").scale(2).next_to(bitcoin_logo,DOWN))\n",
    "        ethereum_logo.add(Text(\"Ethereum\").scale(2).next_to(ethereum_logo,DOWN*1.8))\n",
    "\n",
    "        self.play(FadeIn(bitcoin_logo))\n",
    "        self.wait()\n",
    "        \n",
    "        self.play(FadeIn(ethereum_logo))\n",
    "        self.wait()\n",
    "        \n",
    "        self.play(FadeOut(bitcoin_logo, ethereum_logo))\n",
    "        self.wait()"
   ]
  },
  {
   "cell_type": "code",
   "execution_count": 118,
   "metadata": {},
   "outputs": [
    {
     "name": "stderr",
     "output_type": "stream",
     "text": [
      "                                                                                                                       \r"
     ]
    },
    {
     "data": {
      "text/html": [
       "<video src=\"media\\jupyter\\GovToNetwork@2021-11-29@21-57-58.mp4\" controls autoplay loop style=\"max-width: 60%;\"  >\n",
       "      Your browser does not support the <code>video</code> element.\n",
       "    </video>"
      ],
      "text/plain": [
       "<IPython.core.display.Video object>"
      ]
     },
     "metadata": {},
     "output_type": "display_data"
    }
   ],
   "source": [
    "%%manim -v WARNING -qm GovToNetwork\n",
    "\n",
    "import networkx as nx\n",
    "\n",
    "class GovToNetwork(Scene):\n",
    "    def construct(self):\n",
    "        bank = ImageMobject(\"./bank.png\").scale(1.5).move_to(UP*.5)\n",
    "        bank.add(Text(\"Central Authority\").scale(1.5).next_to(bank, DOWN))\n",
    "        \n",
    "        self.play(FadeIn(bank))\n",
    "        self.add(bank)\n",
    "        \n",
    "        #self.play()\n",
    "        \n",
    "        arrow = Arrow(start = LEFT, end = RIGHT).scale(1)\n",
    "        network = Graph.from_networkx(nx.complete_graph(8), layout = 'circular').scale(1.2)\n",
    "        \n",
    "        arrow.move_to(LEFT*1)\n",
    "        network.next_to(arrow, RIGHT*2)\n",
    "        text = Text(\"Peer-to-Peer Network\").next_to(network, DOWN)\n",
    "        \n",
    "        self.play(bank.animate.shift(LEFT*3.5).scale(.5), FadeIn(arrow), Create(network), FadeIn(text))\n",
    "        \n",
    "        self.wait()\n",
    "        \n",
    "        self.play(*[FadeOut(mob)for mob in self.mobjects])\n",
    "        self.wait()\n",
    "           "
   ]
  },
  {
   "cell_type": "code",
   "execution_count": 119,
   "metadata": {},
   "outputs": [
    {
     "name": "stderr",
     "output_type": "stream",
     "text": [
      "                                                                                                                       \r"
     ]
    },
    {
     "data": {
      "text/html": [
       "<video src=\"media\\jupyter\\QuestionMark@2021-11-29@21-57-59.mp4\" controls autoplay loop style=\"max-width: 60%;\"  >\n",
       "      Your browser does not support the <code>video</code> element.\n",
       "    </video>"
      ],
      "text/plain": [
       "<IPython.core.display.Video object>"
      ]
     },
     "metadata": {},
     "output_type": "display_data"
    }
   ],
   "source": [
    "%%manim -v WARNING -qm QuestionMark\n",
    "\n",
    "class QuestionMark(Scene):\n",
    "    def construct(self):\n",
    "        mark = Text(\"?\").scale(8)\n",
    "        mark.add(Text(\"How can we trust trust this?\").next_to(mark, DOWN*1.5))\n",
    "        \n",
    "        self.play(FadeIn(mark))\n",
    "        self.wait()\n",
    "        \n",
    "        self.play(FadeOut(mark))\n",
    "        self.wait()\n"
   ]
  },
  {
   "cell_type": "code",
   "execution_count": 120,
   "metadata": {},
   "outputs": [
    {
     "name": "stderr",
     "output_type": "stream",
     "text": [
      "                                                                                                                       \r"
     ]
    },
    {
     "data": {
      "text/html": [
       "<video src=\"media\\jupyter\\Protocol@2021-11-29@21-58-05.mp4\" controls autoplay loop style=\"max-width: 60%;\"  >\n",
       "      Your browser does not support the <code>video</code> element.\n",
       "    </video>"
      ],
      "text/plain": [
       "<IPython.core.display.Video object>"
      ]
     },
     "metadata": {},
     "output_type": "display_data"
    }
   ],
   "source": [
    "%%manim -v WARNING -qm Protocol\n",
    "\n",
    "class Protocol(Scene):\n",
    "    def construct(self):\n",
    "        protocol = ImageMobject('./protocol.png').scale(3).move_to(DOWN*.5)\n",
    "        protocol.add(Text(\"Blockchain Protocol\").next_to(protocol, UP*2))\n",
    "        \n",
    "        self.play(FadeIn(protocol))\n",
    "        self.wait()\n",
    "        \n",
    "        self.play(protocol.animate.shift(RIGHT*3).scale(.5))\n",
    "        \n",
    "        guy = ImageMobject('./bad_guy.png').next_to(protocol, LEFT*12)\n",
    "        attack = Arrow(start=ORIGIN, end=RIGHT, stroke_width=50,\n",
    "                      buff=0.05).scale(3).next_to(protocol, LEFT)\n",
    "        attack.add(Text(\"Attack\", color = RED).next_to(attack, UP))\n",
    "        guy.add(attack)\n",
    "        \n",
    "        cancel = ImageMobject('cancel.png').scale(.5).move_to(RIGHT*3)\n",
    "        self.play(FadeIn(guy), FadeIn(cancel))\n",
    "        self.wait()\n",
    "        \n",
    "        cancel_a = ImageMobject('cancel.png').scale(.3).next_to(protocol, LEFT*12.5)\n",
    "        self.play(FadeIn(cancel_a))\n",
    "        self.wait()\n",
    "        \n",
    "        self.play(FadeOut(cancel, guy, cancel_a), protocol.animate.scale(2).move_to(ORIGIN))\n",
    "        self.wait()\n",
    "        \n",
    "        protocol.remove(protocol.submobjects[0])\n",
    "        b1b = ImageMobject('3b1b.png').scale(.7).move_to(UP*.5)\n",
    "        name = Text(\"3Blue1Brown\").next_to(b1b, DOWN)\n",
    "        self.play(FadeTransform(protocol, b1b, stetch = False), FadeIn(name))\n",
    "        self.wait()\n",
    "        \n",
    "        v1 = ImageMobject('vid1.png').align_to(b1b)\n",
    "        self.play(FadeTransform(b1b, v1, stretch = False))\n",
    "        self.wait()\n",
    "        \n",
    "        v2 = ImageMobject('vid2.png').align_to(b1b)\n",
    "        self.play(FadeTransform(v1, v2, stretch = False))\n",
    "        self.wait()\n",
    "        \n",
    "        v3 = ImageMobject('vid3.png').align_to(b1b)\n",
    "        self.play(FadeTransform(v2, v3, stretch = False))\n",
    "        self.wait()"
   ]
  }
 ],
 "metadata": {
  "kernelspec": {
   "display_name": "Python 3",
   "language": "python",
   "name": "python3"
  },
  "language_info": {
   "codemirror_mode": {
    "name": "ipython",
    "version": 3
   },
   "file_extension": ".py",
   "mimetype": "text/x-python",
   "name": "python",
   "nbconvert_exporter": "python",
   "pygments_lexer": "ipython3",
   "version": "3.8.5"
  }
 },
 "nbformat": 4,
 "nbformat_minor": 4
}
